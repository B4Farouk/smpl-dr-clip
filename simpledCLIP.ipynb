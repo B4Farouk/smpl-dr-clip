{
  "cells": [
    {
      "cell_type": "markdown",
      "metadata": {
        "id": "ub3yRD8U9UVO"
      },
      "source": [
        "### Import the GitHub Project"
      ]
    },
    {
      "cell_type": "code",
      "execution_count": 84,
      "metadata": {
        "colab": {
          "base_uri": "https://localhost:8080/"
        },
        "id": "6Q4bLvJx_HNw",
        "outputId": "98fc3664-16bc-4aea-8259-401265ccd83a"
      },
      "outputs": [
        {
          "output_type": "stream",
          "name": "stdout",
          "text": [
            "Cloning into 'project'...\n",
            "remote: Enumerating objects: 257, done.\u001b[K\n",
            "remote: Counting objects:   1% (1/93)\u001b[K\rremote: Counting objects:   2% (2/93)\u001b[K\rremote: Counting objects:   3% (3/93)\u001b[K\rremote: Counting objects:   4% (4/93)\u001b[K\rremote: Counting objects:   5% (5/93)\u001b[K\rremote: Counting objects:   6% (6/93)\u001b[K\rremote: Counting objects:   7% (7/93)\u001b[K\rremote: Counting objects:   8% (8/93)\u001b[K\rremote: Counting objects:   9% (9/93)\u001b[K\rremote: Counting objects:  10% (10/93)\u001b[K\rremote: Counting objects:  11% (11/93)\u001b[K\rremote: Counting objects:  12% (12/93)\u001b[K\rremote: Counting objects:  13% (13/93)\u001b[K\rremote: Counting objects:  15% (14/93)\u001b[K\rremote: Counting objects:  16% (15/93)\u001b[K\rremote: Counting objects:  17% (16/93)\u001b[K\rremote: Counting objects:  18% (17/93)\u001b[K\rremote: Counting objects:  19% (18/93)\u001b[K\rremote: Counting objects:  20% (19/93)\u001b[K\rremote: Counting objects:  21% (20/93)\u001b[K\rremote: Counting objects:  22% (21/93)\u001b[K\rremote: Counting objects:  23% (22/93)\u001b[K\rremote: Counting objects:  24% (23/93)\u001b[K\rremote: Counting objects:  25% (24/93)\u001b[K\rremote: Counting objects:  26% (25/93)\u001b[K\rremote: Counting objects:  27% (26/93)\u001b[K\rremote: Counting objects:  29% (27/93)\u001b[K\rremote: Counting objects:  30% (28/93)\u001b[K\rremote: Counting objects:  31% (29/93)\u001b[K\rremote: Counting objects:  32% (30/93)\u001b[K\rremote: Counting objects:  33% (31/93)\u001b[K\rremote: Counting objects:  34% (32/93)\u001b[K\rremote: Counting objects:  35% (33/93)\u001b[K\rremote: Counting objects:  36% (34/93)\u001b[K\rremote: Counting objects:  37% (35/93)\u001b[K\rremote: Counting objects:  38% (36/93)\u001b[K\rremote: Counting objects:  39% (37/93)\u001b[K\rremote: Counting objects:  40% (38/93)\u001b[K\rremote: Counting objects:  41% (39/93)\u001b[K\rremote: Counting objects:  43% (40/93)\u001b[K\rremote: Counting objects:  44% (41/93)\u001b[K\rremote: Counting objects:  45% (42/93)\u001b[K\rremote: Counting objects:  46% (43/93)\u001b[K\rremote: Counting objects:  47% (44/93)\u001b[K\rremote: Counting objects:  48% (45/93)\u001b[K\rremote: Counting objects:  49% (46/93)\u001b[K\rremote: Counting objects:  50% (47/93)\u001b[K\rremote: Counting objects:  51% (48/93)\u001b[K\rremote: Counting objects:  52% (49/93)\u001b[K\rremote: Counting objects:  53% (50/93)\u001b[K\rremote: Counting objects:  54% (51/93)\u001b[K\rremote: Counting objects:  55% (52/93)\u001b[K\rremote: Counting objects:  56% (53/93)\u001b[K\rremote: Counting objects:  58% (54/93)\u001b[K\rremote: Counting objects:  59% (55/93)\u001b[K\rremote: Counting objects:  60% (56/93)\u001b[K\rremote: Counting objects:  61% (57/93)\u001b[K\rremote: Counting objects:  62% (58/93)\u001b[K\rremote: Counting objects:  63% (59/93)\u001b[K\rremote: Counting objects:  64% (60/93)\u001b[K\rremote: Counting objects:  65% (61/93)\u001b[K\rremote: Counting objects:  66% (62/93)\u001b[K\rremote: Counting objects:  67% (63/93)\u001b[K\rremote: Counting objects:  68% (64/93)\u001b[K\rremote: Counting objects:  69% (65/93)\u001b[K\rremote: Counting objects:  70% (66/93)\u001b[K\rremote: Counting objects:  72% (67/93)\u001b[K\rremote: Counting objects:  73% (68/93)\u001b[K\rremote: Counting objects:  74% (69/93)\u001b[K\rremote: Counting objects:  75% (70/93)\u001b[K\rremote: Counting objects:  76% (71/93)\u001b[K\rremote: Counting objects:  77% (72/93)\u001b[K\rremote: Counting objects:  78% (73/93)\u001b[K\rremote: Counting objects:  79% (74/93)\u001b[K\rremote: Counting objects:  80% (75/93)\u001b[K\rremote: Counting objects:  81% (76/93)\u001b[K\rremote: Counting objects:  82% (77/93)\u001b[K\rremote: Counting objects:  83% (78/93)\u001b[K\rremote: Counting objects:  84% (79/93)\u001b[K\rremote: Counting objects:  86% (80/93)\u001b[K\rremote: Counting objects:  87% (81/93)\u001b[K\rremote: Counting objects:  88% (82/93)\u001b[K\rremote: Counting objects:  89% (83/93)\u001b[K\rremote: Counting objects:  90% (84/93)\u001b[K\rremote: Counting objects:  91% (85/93)\u001b[K\rremote: Counting objects:  92% (86/93)\u001b[K\rremote: Counting objects:  93% (87/93)\u001b[K\rremote: Counting objects:  94% (88/93)\u001b[K\rremote: Counting objects:  95% (89/93)\u001b[K\rremote: Counting objects:  96% (90/93)\u001b[K\rremote: Counting objects:  97% (91/93)\u001b[K\rremote: Counting objects:  98% (92/93)\u001b[K\rremote: Counting objects: 100% (93/93)\u001b[K\rremote: Counting objects: 100% (93/93), done.\u001b[K\n",
            "remote: Compressing objects: 100% (79/79), done.\u001b[K\n",
            "remote: Total 257 (delta 53), reused 38 (delta 14), pack-reused 164\u001b[K\n",
            "Receiving objects: 100% (257/257), 36.10 MiB | 41.39 MiB/s, done.\n",
            "Resolving deltas: 100% (142/142), done.\n"
          ]
        }
      ],
      "source": [
        "!rm -rf project #remove if it already exists \n",
        "!git clone https://github.com/B4Farouk/smpl-dr-clip project\n",
        "!rm -rf sample_data"
      ]
    },
    {
      "cell_type": "markdown",
      "metadata": {
        "id": "AGLZOp-aG4l_"
      },
      "source": [
        "### Install Dependencies\n",
        "---\n",
        "- pytorch (1.12.1)\n",
        "- torchvision (0.13.1)\n",
        "---\n",
        "- pytorch3d\n",
        "---\n",
        "- SMPL\n",
        "- chumpy"
      ]
    },
    {
      "cell_type": "code",
      "execution_count": 2,
      "metadata": {
        "id": "EGDGdk6i-gsr"
      },
      "outputs": [],
      "source": [
        "import os\n",
        "import sys"
      ]
    },
    {
      "cell_type": "code",
      "execution_count": 3,
      "metadata": {
        "colab": {
          "base_uri": "https://localhost:8080/"
        },
        "id": "wPKeYdaC-ft5",
        "outputId": "0958fc49-e2ba-4011-a245-677caeacf925"
      },
      "outputs": [
        {
          "output_type": "stream",
          "name": "stdout",
          "text": [
            "Looking in indexes: https://pypi.org/simple, https://us-python.pkg.dev/colab-wheels/public/simple/\n",
            "Requirement already satisfied: torch==1.12.1 in /usr/local/lib/python3.8/dist-packages (1.12.1+cu113)\n",
            "Requirement already satisfied: typing-extensions in /usr/local/lib/python3.8/dist-packages (from torch==1.12.1) (4.1.1)\n"
          ]
        }
      ],
      "source": [
        "# install torch\n",
        "try:\n",
        "    import torch\n",
        "    if torch.__version__ != \"1.12.1\":\n",
        "      raise ModuleNotFoundError()\n",
        "except ModuleNotFoundError:\n",
        "    !pip install torch==1.12.1"
      ]
    },
    {
      "cell_type": "code",
      "execution_count": 4,
      "metadata": {
        "colab": {
          "base_uri": "https://localhost:8080/"
        },
        "id": "L48uBYSS-iq4",
        "outputId": "1d7ba64b-34ec-42a7-9db1-d0b4c62f7a21"
      },
      "outputs": [
        {
          "output_type": "stream",
          "name": "stdout",
          "text": [
            "Looking in indexes: https://pypi.org/simple, https://us-python.pkg.dev/colab-wheels/public/simple/\n",
            "Requirement already satisfied: torchvision==0.13.1 in /usr/local/lib/python3.8/dist-packages (0.13.1+cu113)\n",
            "Requirement already satisfied: torch==1.12.1 in /usr/local/lib/python3.8/dist-packages (from torchvision==0.13.1) (1.12.1+cu113)\n",
            "Requirement already satisfied: typing-extensions in /usr/local/lib/python3.8/dist-packages (from torchvision==0.13.1) (4.1.1)\n",
            "Requirement already satisfied: numpy in /usr/local/lib/python3.8/dist-packages (from torchvision==0.13.1) (1.21.6)\n",
            "Requirement already satisfied: pillow!=8.3.*,>=5.3.0 in /usr/local/lib/python3.8/dist-packages (from torchvision==0.13.1) (7.1.2)\n",
            "Requirement already satisfied: requests in /usr/local/lib/python3.8/dist-packages (from torchvision==0.13.1) (2.23.0)\n",
            "Requirement already satisfied: certifi>=2017.4.17 in /usr/local/lib/python3.8/dist-packages (from requests->torchvision==0.13.1) (2022.9.24)\n",
            "Requirement already satisfied: chardet<4,>=3.0.2 in /usr/local/lib/python3.8/dist-packages (from requests->torchvision==0.13.1) (3.0.4)\n",
            "Requirement already satisfied: idna<3,>=2.5 in /usr/local/lib/python3.8/dist-packages (from requests->torchvision==0.13.1) (2.10)\n",
            "Requirement already satisfied: urllib3!=1.25.0,!=1.25.1,<1.26,>=1.21.1 in /usr/local/lib/python3.8/dist-packages (from requests->torchvision==0.13.1) (1.24.3)\n"
          ]
        }
      ],
      "source": [
        "# install torchvision\n",
        "try:\n",
        "    import torchvision\n",
        "    if torchvision.__version__ != \"0.13.1\":\n",
        "      raise ModuleNotFoundError()\n",
        "except ModuleNotFoundError:\n",
        "    !pip install torchvision==0.13.1"
      ]
    },
    {
      "cell_type": "code",
      "execution_count": 5,
      "metadata": {
        "colab": {
          "base_uri": "https://localhost:8080/"
        },
        "id": "cBC26H1Z-k2A",
        "outputId": "2a2d923c-0482-4800-be0b-d75ae69e5556"
      },
      "outputs": [
        {
          "output_type": "stream",
          "name": "stdout",
          "text": [
            "Looking in indexes: https://pypi.org/simple, https://us-python.pkg.dev/colab-wheels/public/simple/\n",
            "Collecting fvcore\n",
            "  Downloading fvcore-0.1.5.post20221122.tar.gz (50 kB)\n",
            "\u001b[K     |████████████████████████████████| 50 kB 6.4 MB/s \n",
            "\u001b[?25hCollecting iopath\n",
            "  Downloading iopath-0.1.10.tar.gz (42 kB)\n",
            "\u001b[K     |████████████████████████████████| 42 kB 1.2 MB/s \n",
            "\u001b[?25hRequirement already satisfied: numpy in /usr/local/lib/python3.8/dist-packages (from fvcore) (1.21.6)\n",
            "Collecting yacs>=0.1.6\n",
            "  Downloading yacs-0.1.8-py3-none-any.whl (14 kB)\n",
            "Requirement already satisfied: pyyaml>=5.1 in /usr/local/lib/python3.8/dist-packages (from fvcore) (6.0)\n",
            "Requirement already satisfied: tqdm in /usr/local/lib/python3.8/dist-packages (from fvcore) (4.64.1)\n",
            "Requirement already satisfied: termcolor>=1.1 in /usr/local/lib/python3.8/dist-packages (from fvcore) (2.1.1)\n",
            "Requirement already satisfied: Pillow in /usr/local/lib/python3.8/dist-packages (from fvcore) (7.1.2)\n",
            "Requirement already satisfied: tabulate in /usr/local/lib/python3.8/dist-packages (from fvcore) (0.8.10)\n",
            "Requirement already satisfied: typing_extensions in /usr/local/lib/python3.8/dist-packages (from iopath) (4.1.1)\n",
            "Collecting portalocker\n",
            "  Downloading portalocker-2.6.0-py2.py3-none-any.whl (15 kB)\n",
            "Building wheels for collected packages: fvcore, iopath\n",
            "  Building wheel for fvcore (setup.py) ... \u001b[?25l\u001b[?25hdone\n",
            "  Created wheel for fvcore: filename=fvcore-0.1.5.post20221122-py3-none-any.whl size=61484 sha256=747cb0e049ccdb535f1bd1b9e79e3255f6c064b3ed91c959d914e977bc8b5b4c\n",
            "  Stored in directory: /root/.cache/pip/wheels/15/6e/e3/602889ca9c5c55020f8d205066445ac5b1b96df59f75170ca0\n",
            "  Building wheel for iopath (setup.py) ... \u001b[?25l\u001b[?25hdone\n",
            "  Created wheel for iopath: filename=iopath-0.1.10-py3-none-any.whl size=31547 sha256=8587392a55802e56bd4a7cece1397451665d8ba612d5e59a289ea9de2d9078b7\n",
            "  Stored in directory: /root/.cache/pip/wheels/89/3e/24/0f349c0b2eeb6965903035f3b00dbb5c9bea437b4a2f18d82c\n",
            "Successfully built fvcore iopath\n",
            "Installing collected packages: portalocker, yacs, iopath, fvcore\n",
            "Successfully installed fvcore-0.1.5.post20221122 iopath-0.1.10 portalocker-2.6.0 yacs-0.1.8\n",
            "Looking in links: https://dl.fbaipublicfiles.com/pytorch3d/packaging/wheels/py38_cu113_pyt1121/download.html\n",
            "Collecting pytorch3d\n",
            "  Downloading https://dl.fbaipublicfiles.com/pytorch3d/packaging/wheels/py38_cu113_pyt1121/pytorch3d-0.7.1-cp38-cp38-linux_x86_64.whl (47.2 MB)\n",
            "\u001b[K     |████████████████████████████████| 47.2 MB 2.6 MB/s \n",
            "\u001b[?25hRequirement already satisfied: iopath in /usr/local/lib/python3.8/dist-packages (from pytorch3d) (0.1.10)\n",
            "Requirement already satisfied: fvcore in /usr/local/lib/python3.8/dist-packages (from pytorch3d) (0.1.5.post20221122)\n",
            "Requirement already satisfied: tqdm in /usr/local/lib/python3.8/dist-packages (from fvcore->pytorch3d) (4.64.1)\n",
            "Requirement already satisfied: tabulate in /usr/local/lib/python3.8/dist-packages (from fvcore->pytorch3d) (0.8.10)\n",
            "Requirement already satisfied: pyyaml>=5.1 in /usr/local/lib/python3.8/dist-packages (from fvcore->pytorch3d) (6.0)\n",
            "Requirement already satisfied: numpy in /usr/local/lib/python3.8/dist-packages (from fvcore->pytorch3d) (1.21.6)\n",
            "Requirement already satisfied: yacs>=0.1.6 in /usr/local/lib/python3.8/dist-packages (from fvcore->pytorch3d) (0.1.8)\n",
            "Requirement already satisfied: termcolor>=1.1 in /usr/local/lib/python3.8/dist-packages (from fvcore->pytorch3d) (2.1.1)\n",
            "Requirement already satisfied: Pillow in /usr/local/lib/python3.8/dist-packages (from fvcore->pytorch3d) (7.1.2)\n",
            "Requirement already satisfied: typing-extensions in /usr/local/lib/python3.8/dist-packages (from iopath->pytorch3d) (4.1.1)\n",
            "Requirement already satisfied: portalocker in /usr/local/lib/python3.8/dist-packages (from iopath->pytorch3d) (2.6.0)\n",
            "Installing collected packages: pytorch3d\n",
            "Successfully installed pytorch3d-0.7.1\n"
          ]
        }
      ],
      "source": [
        "# install pytorch3d\n",
        "import torch, torchvision\n",
        "\n",
        "try:\n",
        "    import pytorch3d\n",
        "except ModuleNotFoundError:\n",
        "    if torch.__version__.startswith(\"1.12.\") and sys.platform.startswith(\"linux\"):\n",
        "        # We try to install PyTorch3D via a released wheel.\n",
        "        pyt_version_str=torch.__version__.split(\"+\")[0].replace(\".\", \"\")\n",
        "        version_str=\"\".join([\n",
        "            f\"py3{sys.version_info.minor}_cu\",\n",
        "            torch.version.cuda.replace(\".\",\"\"),\n",
        "            f\"_pyt{pyt_version_str}\"\n",
        "        ])\n",
        "        !pip install fvcore iopath\n",
        "        !pip install --no-index --no-cache-dir pytorch3d -f https://dl.fbaipublicfiles.com/pytorch3d/packaging/wheels/{version_str}/download.html\n",
        "    else:\n",
        "        # We try to install PyTorch3D from source.\n",
        "        !curl -LO https://github.com/NVIDIA/cub/archive/1.10.0.tar.gz\n",
        "        !tar xzf 1.10.0.tar.gz\n",
        "        os.environ[\"CUB_HOME\"] = os.getcwd() + \"/cub-1.10.0\"\n",
        "        !pip install pytorch3d"
      ]
    },
    {
      "cell_type": "code",
      "execution_count": 6,
      "metadata": {
        "colab": {
          "base_uri": "https://localhost:8080/"
        },
        "id": "KwMePHahujyE",
        "outputId": "877098fa-bfeb-4e42-8b62-7c44a62935dd"
      },
      "outputs": [
        {
          "output_type": "stream",
          "name": "stdout",
          "text": [
            "Looking in indexes: https://pypi.org/simple, https://us-python.pkg.dev/colab-wheels/public/simple/\n",
            "Collecting smplpytorch\n",
            "  Downloading smplpytorch-0.0.8-py3-none-any.whl (22 kB)\n",
            "Requirement already satisfied: numpy in /usr/local/lib/python3.8/dist-packages (from smplpytorch) (1.21.6)\n",
            "Requirement already satisfied: opencv-python in /usr/local/lib/python3.8/dist-packages (from smplpytorch) (4.6.0.66)\n",
            "Requirement already satisfied: matplotlib in /usr/local/lib/python3.8/dist-packages (from smplpytorch) (3.2.2)\n",
            "Requirement already satisfied: python-dateutil>=2.1 in /usr/local/lib/python3.8/dist-packages (from matplotlib->smplpytorch) (2.8.2)\n",
            "Requirement already satisfied: pyparsing!=2.0.4,!=2.1.2,!=2.1.6,>=2.0.1 in /usr/local/lib/python3.8/dist-packages (from matplotlib->smplpytorch) (3.0.9)\n",
            "Requirement already satisfied: kiwisolver>=1.0.1 in /usr/local/lib/python3.8/dist-packages (from matplotlib->smplpytorch) (1.4.4)\n",
            "Requirement already satisfied: cycler>=0.10 in /usr/local/lib/python3.8/dist-packages (from matplotlib->smplpytorch) (0.11.0)\n",
            "Requirement already satisfied: six>=1.5 in /usr/local/lib/python3.8/dist-packages (from python-dateutil>=2.1->matplotlib->smplpytorch) (1.15.0)\n",
            "Installing collected packages: smplpytorch\n",
            "Successfully installed smplpytorch-0.0.8\n",
            "Looking in indexes: https://pypi.org/simple, https://us-python.pkg.dev/colab-wheels/public/simple/\n",
            "Collecting chumpy\n",
            "  Downloading chumpy-0.70.tar.gz (50 kB)\n",
            "\u001b[K     |████████████████████████████████| 50 kB 5.8 MB/s \n",
            "\u001b[?25hRequirement already satisfied: scipy>=0.13.0 in /usr/local/lib/python3.8/dist-packages (from chumpy) (1.7.3)\n",
            "Requirement already satisfied: six>=1.11.0 in /usr/local/lib/python3.8/dist-packages (from chumpy) (1.15.0)\n",
            "Requirement already satisfied: numpy<1.23.0,>=1.16.5 in /usr/local/lib/python3.8/dist-packages (from scipy>=0.13.0->chumpy) (1.21.6)\n",
            "Building wheels for collected packages: chumpy\n",
            "  Building wheel for chumpy (setup.py) ... \u001b[?25l\u001b[?25hdone\n",
            "  Created wheel for chumpy: filename=chumpy-0.70-py3-none-any.whl size=58286 sha256=18fb2e8dfad3399352bec15983963f8614b7bd1b8c2af8825343407c857b1c7c\n",
            "  Stored in directory: /root/.cache/pip/wheels/d9/a2/b8/b8aeeeaeb01b5002085156add1aed832f2fb03e79d0f22dfed\n",
            "Successfully built chumpy\n",
            "Installing collected packages: chumpy\n",
            "Successfully installed chumpy-0.70\n"
          ]
        }
      ],
      "source": [
        "# install SMPL dependencies\n",
        "!pip install smplpytorch\n",
        "!pip install chumpy"
      ]
    },
    {
      "cell_type": "code",
      "execution_count": 7,
      "metadata": {
        "colab": {
          "base_uri": "https://localhost:8080/"
        },
        "id": "M_SmI6JiO_wN",
        "outputId": "50cb6d87-98f3-48ee-e882-ecca30b2a3ef"
      },
      "outputs": [
        {
          "output_type": "stream",
          "name": "stdout",
          "text": [
            "Looking in indexes: https://pypi.org/simple, https://us-python.pkg.dev/colab-wheels/public/simple/\n",
            "Collecting ftfy\n",
            "  Downloading ftfy-6.1.1-py3-none-any.whl (53 kB)\n",
            "\u001b[K     |████████████████████████████████| 53 kB 1.8 MB/s \n",
            "\u001b[?25hRequirement already satisfied: regex in /usr/local/lib/python3.8/dist-packages (2022.6.2)\n",
            "Requirement already satisfied: tqdm in /usr/local/lib/python3.8/dist-packages (4.64.1)\n",
            "Requirement already satisfied: wcwidth>=0.2.5 in /usr/local/lib/python3.8/dist-packages (from ftfy) (0.2.5)\n",
            "Installing collected packages: ftfy\n",
            "Successfully installed ftfy-6.1.1\n",
            "Looking in indexes: https://pypi.org/simple, https://us-python.pkg.dev/colab-wheels/public/simple/\n",
            "Collecting git+https://github.com/openai/CLIP.git\n",
            "  Cloning https://github.com/openai/CLIP.git to /tmp/pip-req-build-bugqhi2f\n",
            "  Running command git clone -q https://github.com/openai/CLIP.git /tmp/pip-req-build-bugqhi2f\n",
            "Requirement already satisfied: ftfy in /usr/local/lib/python3.8/dist-packages (from clip==1.0) (6.1.1)\n",
            "Requirement already satisfied: regex in /usr/local/lib/python3.8/dist-packages (from clip==1.0) (2022.6.2)\n",
            "Requirement already satisfied: tqdm in /usr/local/lib/python3.8/dist-packages (from clip==1.0) (4.64.1)\n",
            "Requirement already satisfied: torch in /usr/local/lib/python3.8/dist-packages (from clip==1.0) (1.12.1+cu113)\n",
            "Requirement already satisfied: torchvision in /usr/local/lib/python3.8/dist-packages (from clip==1.0) (0.13.1+cu113)\n",
            "Requirement already satisfied: wcwidth>=0.2.5 in /usr/local/lib/python3.8/dist-packages (from ftfy->clip==1.0) (0.2.5)\n",
            "Requirement already satisfied: typing-extensions in /usr/local/lib/python3.8/dist-packages (from torch->clip==1.0) (4.1.1)\n",
            "Requirement already satisfied: requests in /usr/local/lib/python3.8/dist-packages (from torchvision->clip==1.0) (2.23.0)\n",
            "Requirement already satisfied: pillow!=8.3.*,>=5.3.0 in /usr/local/lib/python3.8/dist-packages (from torchvision->clip==1.0) (7.1.2)\n",
            "Requirement already satisfied: numpy in /usr/local/lib/python3.8/dist-packages (from torchvision->clip==1.0) (1.21.6)\n",
            "Requirement already satisfied: urllib3!=1.25.0,!=1.25.1,<1.26,>=1.21.1 in /usr/local/lib/python3.8/dist-packages (from requests->torchvision->clip==1.0) (1.24.3)\n",
            "Requirement already satisfied: certifi>=2017.4.17 in /usr/local/lib/python3.8/dist-packages (from requests->torchvision->clip==1.0) (2022.9.24)\n",
            "Requirement already satisfied: chardet<4,>=3.0.2 in /usr/local/lib/python3.8/dist-packages (from requests->torchvision->clip==1.0) (3.0.4)\n",
            "Requirement already satisfied: idna<3,>=2.5 in /usr/local/lib/python3.8/dist-packages (from requests->torchvision->clip==1.0) (2.10)\n",
            "Building wheels for collected packages: clip\n",
            "  Building wheel for clip (setup.py) ... \u001b[?25l\u001b[?25hdone\n",
            "  Created wheel for clip: filename=clip-1.0-py3-none-any.whl size=1369408 sha256=1b20afdc5fede8ecc2b3a6ac3eb260287b3ab6d7329099f5c4ed06731a869d19\n",
            "  Stored in directory: /tmp/pip-ephem-wheel-cache-gyzh4erm/wheels/ab/4f/3a/5e51521b55997aa6f0690e095c08824219753128ce8d9969a3\n",
            "Successfully built clip\n",
            "Installing collected packages: clip\n",
            "Successfully installed clip-1.0\n"
          ]
        }
      ],
      "source": [
        "! pip install ftfy regex tqdm\n",
        "! pip install git+https://github.com/openai/CLIP.git"
      ]
    },
    {
      "cell_type": "markdown",
      "metadata": {
        "id": "iwp9Ul6WuTGh"
      },
      "source": [
        "### GPU"
      ]
    },
    {
      "cell_type": "code",
      "execution_count": 8,
      "metadata": {
        "colab": {
          "base_uri": "https://localhost:8080/"
        },
        "id": "GUwF2IHEJuyg",
        "outputId": "e06eb89b-025e-41b2-c8f0-91e3b1cc0717"
      },
      "outputs": [
        {
          "output_type": "execute_result",
          "data": {
            "text/plain": [
              "True"
            ]
          },
          "metadata": {},
          "execution_count": 8
        }
      ],
      "source": [
        "torch.cuda.is_available()"
      ]
    },
    {
      "cell_type": "code",
      "execution_count": 9,
      "metadata": {
        "colab": {
          "base_uri": "https://localhost:8080/"
        },
        "id": "frq2ONHFKtpQ",
        "outputId": "2f1d1e55-4919-43a1-fa31-e20161339ea6"
      },
      "outputs": [
        {
          "output_type": "stream",
          "name": "stdout",
          "text": [
            "nvcc: NVIDIA (R) Cuda compiler driver\n",
            "Copyright (c) 2005-2021 NVIDIA Corporation\n",
            "Built on Sun_Feb_14_21:12:58_PST_2021\n",
            "Cuda compilation tools, release 11.2, V11.2.152\n",
            "Build cuda_11.2.r11.2/compiler.29618528_0\n"
          ]
        }
      ],
      "source": [
        "!nvcc --version"
      ]
    },
    {
      "cell_type": "code",
      "execution_count": 10,
      "metadata": {
        "colab": {
          "base_uri": "https://localhost:8080/"
        },
        "id": "0Lg_--eluTGh",
        "outputId": "ac709660-1c2b-4abc-e5fc-f6fda3451bec"
      },
      "outputs": [
        {
          "output_type": "execute_result",
          "data": {
            "text/plain": [
              "device(type='cuda', index=0)"
            ]
          },
          "metadata": {},
          "execution_count": 10
        }
      ],
      "source": [
        "# GPU or CPU\n",
        "gpu, cpu = None, None\n",
        "if torch.cuda.is_available():\n",
        "    gpu = torch.device(\"cuda:0\")\n",
        "    torch.cuda.set_device(gpu)\n",
        "else:\n",
        "    cpu = torch.device(\"cpu\")\n",
        "dev = gpu if gpu is not None else cpu\n",
        "dev"
      ]
    },
    {
      "cell_type": "markdown",
      "metadata": {
        "id": "MVPYSGzraGX_"
      },
      "source": [
        "### Local Imports "
      ]
    },
    {
      "cell_type": "code",
      "execution_count": 97,
      "metadata": {
        "colab": {
          "base_uri": "https://localhost:8080/"
        },
        "id": "svLlbat9aLZy",
        "outputId": "2b5067a9-564d-4b92-a852-d7e26c315b37"
      },
      "outputs": [
        {
          "output_type": "stream",
          "name": "stdout",
          "text": [
            "The autoreload extension is already loaded. To reload it, use:\n",
            "  %reload_ext autoreload\n"
          ]
        }
      ],
      "source": [
        "from project.smpl import SMPLwrapper, mesh_from\n",
        "from project.textures import TexturesFactory\n",
        "from project.rendering import CamerasFactory, Renderer\n",
        "from project.clipmodel import CLIPmodel\n",
        "\n",
        "import clip\n",
        "\n",
        "import numpy as np\n",
        "\n",
        "%load_ext autoreload\n",
        "%autoreload 2"
      ]
    },
    {
      "cell_type": "markdown",
      "metadata": {
        "id": "SBh32HzDuTGi"
      },
      "source": [
        "### SMPL"
      ]
    },
    {
      "cell_type": "code",
      "execution_count": 13,
      "metadata": {
        "id": "l5IDdOc9uTGk"
      },
      "outputs": [],
      "source": [
        "# initalize a textures factory\n",
        "txfactory = TexturesFactory(device=dev)\n",
        "# use the texture factory to create a texture generator: a function that takes faces and creates a texture\n",
        "def texture_generator(faces):\n",
        "  nfaces = len(faces[0])\n",
        "  texture = txfactory.from_facecolor(nfaces=nfaces, facecolor=(0.5, 0.5, 0.5))\n",
        "  return texture\n",
        "# pose and shape initalization\n",
        "pose_vect = torch.zeros(1, 72, device=dev) # theta\n",
        "shape_vect = torch.zeros(1, 10, device=dev) # beta\n",
        "# create the smpl model\n",
        "smpl_model = SMPLwrapper(model=None, txmapping=texture_generator, device=dev) #model=None uses the default model\n",
        "# create the mesh\n",
        "mesh = smpl_model.mesh(theta=pose_vect, beta=shape_vect)"
      ]
    },
    {
      "cell_type": "markdown",
      "metadata": {
        "id": "et2fXSyz9mCU"
      },
      "source": [
        "### Differentiable Renderer"
      ]
    },
    {
      "cell_type": "code",
      "execution_count": 137,
      "metadata": {
        "id": "WdHsi04huTGk"
      },
      "outputs": [],
      "source": [
        "# create a cameras factory\n",
        "camsfactory = CamerasFactory(device=dev)\n",
        "# create a camera using the cameras factory\n",
        "camera = camsfactory.fov_persp_scs(coords=(2.25, 0, 0), fov=60, frustrum_depth=(1, 100))\n",
        "# create a renderer\n",
        "renderer = Renderer(device=dev, cameras=camera)\n",
        "# render the textured mesh generated by SMPL\n",
        "image = renderer.render(mesh)"
      ]
    },
    {
      "cell_type": "code",
      "execution_count": 15,
      "metadata": {
        "colab": {
          "base_uri": "https://localhost:8080/",
          "height": 575
        },
        "id": "v1AvDs_ZmBYw",
        "outputId": "3ea6b9bc-c526-469e-f203-98d6b7066bc9"
      },
      "outputs": [
        {
          "output_type": "display_data",
          "data": {
            "text/plain": [
              "<Figure size 720x720 with 1 Axes>"
            ],
            "image/png": "[encoded data removed]"
          },
          "metadata": {
            "needs_background": "light"
          }
        }
      ],
      "source": [
        "# a quick visualization of the rendered mesh\n",
        "import matplotlib.pyplot as plt\n",
        "plt.figure(figsize=(10, 10))\n",
        "plt.imshow(image[0, ..., :3].cpu().numpy())\n",
        "plt.axis(\"off\");"
      ]
    },
    {
      "cell_type": "markdown",
      "source": [
        "### CLIP"
      ],
      "metadata": {
        "id": "lRr5J5dBxbN0"
      }
    },
    {
      "cell_type": "code",
      "source": [
        "clip.available_models()"
      ],
      "metadata": {
        "id": "MVrlxkblaVN7",
        "outputId": "57857f11-b36c-4dee-9869-b495d6430efd",
        "colab": {
          "base_uri": "https://localhost:8080/"
        }
      },
      "execution_count": 98,
      "outputs": [
        {
          "output_type": "execute_result",
          "data": {
            "text/plain": [
              "['RN50',\n",
              " 'RN101',\n",
              " 'RN50x4',\n",
              " 'RN50x16',\n",
              " 'RN50x64',\n",
              " 'ViT-B/32',\n",
              " 'ViT-B/16',\n",
              " 'ViT-L/14',\n",
              " 'ViT-L/14@336px']"
            ]
          },
          "metadata": {},
          "execution_count": 98
        }
      ]
    },
    {
      "cell_type": "markdown",
      "source": [
        "### CLIP (with PIL Image input)\n",
        "\n",
        "If this one runs, the other case below will not"
      ],
      "metadata": {
        "id": "VbTYC6k_xTRQ"
      }
    },
    {
      "cell_type": "code",
      "source": [
        "clip_model_pil = CLIPmodel(model=\"RN50\")"
      ],
      "metadata": {
        "id": "FErEqnjqxTzy"
      },
      "execution_count": 237,
      "outputs": []
    },
    {
      "cell_type": "code",
      "source": [
        "prompt = \"horse\"\n",
        "image = renderer.render(mesh)\n",
        "\n",
        "image = image.squeeze()\n",
        "image = torch.permute(image, (2, 0, 1))\n",
        "image_pil = torchvision.transforms.ToPILImage()(image)\n",
        "\n",
        "cosine_distance = clip_model_pil.get_cosine_difference(image_pil, prompt)\n",
        "cosine_distance"
      ],
      "metadata": {
        "id": "GHQ7PH0yxt8k",
        "outputId": "f3dc6491-aafa-49c9-974a-702f3a7a656d",
        "colab": {
          "base_uri": "https://localhost:8080/"
        }
      },
      "execution_count": 238,
      "outputs": [
        {
          "output_type": "execute_result",
          "data": {
            "text/plain": [
              "0.8368535339832306"
            ]
          },
          "metadata": {},
          "execution_count": 238
        }
      ]
    },
    {
      "cell_type": "code",
      "source": [
        "prompt = \"human\"\n",
        "image = renderer.render(mesh)\n",
        "\n",
        "image = image.squeeze()\n",
        "image = torch.permute(image, (2, 0, 1))\n",
        "image_pil = torchvision.transforms.ToPILImage()(image)\n",
        "\n",
        "cosine_distance = clip_model_pil.get_cosine_difference(image_pil, prompt)\n",
        "cosine_distance"
      ],
      "metadata": {
        "id": "4TnClN5Axup5",
        "outputId": "2d96356f-bde0-41b6-a559-32ba1b131a9d",
        "colab": {
          "base_uri": "https://localhost:8080/"
        }
      },
      "execution_count": 239,
      "outputs": [
        {
          "output_type": "execute_result",
          "data": {
            "text/plain": [
              "0.8244954198598862"
            ]
          },
          "metadata": {},
          "execution_count": 239
        }
      ]
    },
    {
      "cell_type": "markdown",
      "metadata": {
        "id": "RIITHUDZ9qgF"
      },
      "source": [
        "### CLIP (without PIL Image input)\n",
        "\n",
        "If this one runs, the other case above will not"
      ]
    },
    {
      "cell_type": "code",
      "source": [
        "clip_model_nopil = CLIPmodel(model=\"RN50\")"
      ],
      "metadata": {
        "id": "NH1WsPHJTt0x"
      },
      "execution_count": 240,
      "outputs": []
    },
    {
      "cell_type": "code",
      "execution_count": 241,
      "metadata": {
        "id": "c7n8od5cMIwG",
        "outputId": "bf51f33f-adc8-4a14-e8bf-445b586fa9ce",
        "colab": {
          "base_uri": "https://localhost:8080/"
        }
      },
      "outputs": [
        {
          "output_type": "execute_result",
          "data": {
            "text/plain": [
              "0.8286291360855103"
            ]
          },
          "metadata": {},
          "execution_count": 241
        }
      ],
      "source": [
        "prompt = \"apple\"\n",
        "image = renderer.render(mesh)\n",
        "\n",
        "image = image.squeeze()\n",
        "image = torch.permute(image, (2, 0, 1))\n",
        "image = image[:3,:,:]\n",
        "\n",
        "cosine_distance = clip_model_nopil.get_cosine_difference(image, prompt)\n",
        "cosine_distance"
      ]
    },
    {
      "cell_type": "code",
      "source": [
        "prompt = \"human\"\n",
        "image = renderer.render(mesh)\n",
        "\n",
        "image = image.squeeze()\n",
        "image = torch.permute(image, (2, 0, 1))\n",
        "image = image[:3,:,:]\n",
        "\n",
        "cosine_distance = clip_model_nopil.get_cosine_difference(image, prompt)\n",
        "cosine_distance"
      ],
      "metadata": {
        "id": "4k7r8tfewYw-",
        "outputId": "63de7559-cd28-497f-9168-ef387abf32e5",
        "colab": {
          "base_uri": "https://localhost:8080/"
        }
      },
      "execution_count": 242,
      "outputs": [
        {
          "output_type": "execute_result",
          "data": {
            "text/plain": [
              "0.8218399882316589"
            ]
          },
          "metadata": {},
          "execution_count": 242
        }
      ]
    },
    {
      "cell_type": "markdown",
      "source": [
        "### Testing Backpropagation"
      ],
      "metadata": {
        "id": "ixaElznmxBFD"
      }
    },
    {
      "cell_type": "code",
      "source": [
        "from optimization import "
      ],
      "metadata": {
        "id": "srwiWazpw_EY"
      },
      "execution_count": null,
      "outputs": []
    }
  ],
  "metadata": {
    "accelerator": "GPU",
    "colab": {
      "collapsed_sections": [
        "iwp9Ul6WuTGh"
      ],
      "provenance": []
    },
    "gpuClass": "standard",
    "kernelspec": {
      "display_name": "Python 3 (ipykernel)",
      "language": "python",
      "name": "python3"
    },
    "language_info": {
      "codemirror_mode": {
        "name": "ipython",
        "version": 3
      },
      "file_extension": ".py",
      "mimetype": "text/x-python",
      "name": "python",
      "nbconvert_exporter": "python",
      "pygments_lexer": "ipython3",
      "version": "3.10.6"
    },
    "vscode": {
      "interpreter": {
        "hash": "31f2aee4e71d21fbe5cf8b01ff0e069b9275f58929596ceb00d14d90e3e16cd6"
      }
    }
  },
  "nbformat": 4,
  "nbformat_minor": 0
}